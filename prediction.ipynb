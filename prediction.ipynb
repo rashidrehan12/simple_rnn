{
 "cells": [
  {
   "cell_type": "code",
   "execution_count": 1,
   "metadata": {},
   "outputs": [],
   "source": [
    "# Step 1: Import Libraries and Load the Model\n",
    "import numpy as np\n",
    "import tensorflow as tf\n",
    "from tensorflow.keras.datasets import imdb\n",
    "from tensorflow.keras.preprocessing import sequence\n",
    "from tensorflow.keras.models import load_model"
   ]
  },
  {
   "cell_type": "code",
   "execution_count": 2,
   "metadata": {},
   "outputs": [],
   "source": [
    "\n",
    "# Load the IMDB dataset word index\n",
    "word_index = imdb.get_word_index()\n",
    "reverse_word_index = {value: key for key, value in word_index.items()}"
   ]
  },
  {
   "cell_type": "code",
   "execution_count": 3,
   "metadata": {},
   "outputs": [
    {
     "name": "stderr",
     "output_type": "stream",
     "text": [
      "WARNING:absl:Compiled the loaded model, but the compiled metrics have yet to be built. `model.compile_metrics` will be empty until you train or evaluate the model.\n"
     ]
    },
    {
     "data": {
      "text/html": [
       "<pre style=\"white-space:pre;overflow-x:auto;line-height:normal;font-family:Menlo,'DejaVu Sans Mono',consolas,'Courier New',monospace\"><span style=\"font-weight: bold\">Model: \"sequential\"</span>\n",
       "</pre>\n"
      ],
      "text/plain": [
       "\u001b[1mModel: \"sequential\"\u001b[0m\n"
      ]
     },
     "metadata": {},
     "output_type": "display_data"
    },
    {
     "data": {
      "text/html": [
       "<pre style=\"white-space:pre;overflow-x:auto;line-height:normal;font-family:Menlo,'DejaVu Sans Mono',consolas,'Courier New',monospace\">┏━━━━━━━━━━━━━━━━━━━━━━━━━━━━━━━━━┳━━━━━━━━━━━━━━━━━━━━━━━━┳━━━━━━━━━━━━━━━┓\n",
       "┃<span style=\"font-weight: bold\"> Layer (type)                    </span>┃<span style=\"font-weight: bold\"> Output Shape           </span>┃<span style=\"font-weight: bold\">       Param # </span>┃\n",
       "┡━━━━━━━━━━━━━━━━━━━━━━━━━━━━━━━━━╇━━━━━━━━━━━━━━━━━━━━━━━━╇━━━━━━━━━━━━━━━┩\n",
       "│ embedding (<span style=\"color: #0087ff; text-decoration-color: #0087ff\">Embedding</span>)           │ (<span style=\"color: #00af00; text-decoration-color: #00af00\">32</span>, <span style=\"color: #00af00; text-decoration-color: #00af00\">500</span>, <span style=\"color: #00af00; text-decoration-color: #00af00\">128</span>)         │     <span style=\"color: #00af00; text-decoration-color: #00af00\">1,280,000</span> │\n",
       "├─────────────────────────────────┼────────────────────────┼───────────────┤\n",
       "│ simple_rnn (<span style=\"color: #0087ff; text-decoration-color: #0087ff\">SimpleRNN</span>)          │ (<span style=\"color: #00af00; text-decoration-color: #00af00\">32</span>, <span style=\"color: #00af00; text-decoration-color: #00af00\">128</span>)              │        <span style=\"color: #00af00; text-decoration-color: #00af00\">32,896</span> │\n",
       "├─────────────────────────────────┼────────────────────────┼───────────────┤\n",
       "│ dense (<span style=\"color: #0087ff; text-decoration-color: #0087ff\">Dense</span>)                   │ (<span style=\"color: #00af00; text-decoration-color: #00af00\">32</span>, <span style=\"color: #00af00; text-decoration-color: #00af00\">1</span>)                │           <span style=\"color: #00af00; text-decoration-color: #00af00\">129</span> │\n",
       "└─────────────────────────────────┴────────────────────────┴───────────────┘\n",
       "</pre>\n"
      ],
      "text/plain": [
       "┏━━━━━━━━━━━━━━━━━━━━━━━━━━━━━━━━━┳━━━━━━━━━━━━━━━━━━━━━━━━┳━━━━━━━━━━━━━━━┓\n",
       "┃\u001b[1m \u001b[0m\u001b[1mLayer (type)                   \u001b[0m\u001b[1m \u001b[0m┃\u001b[1m \u001b[0m\u001b[1mOutput Shape          \u001b[0m\u001b[1m \u001b[0m┃\u001b[1m \u001b[0m\u001b[1m      Param #\u001b[0m\u001b[1m \u001b[0m┃\n",
       "┡━━━━━━━━━━━━━━━━━━━━━━━━━━━━━━━━━╇━━━━━━━━━━━━━━━━━━━━━━━━╇━━━━━━━━━━━━━━━┩\n",
       "│ embedding (\u001b[38;5;33mEmbedding\u001b[0m)           │ (\u001b[38;5;34m32\u001b[0m, \u001b[38;5;34m500\u001b[0m, \u001b[38;5;34m128\u001b[0m)         │     \u001b[38;5;34m1,280,000\u001b[0m │\n",
       "├─────────────────────────────────┼────────────────────────┼───────────────┤\n",
       "│ simple_rnn (\u001b[38;5;33mSimpleRNN\u001b[0m)          │ (\u001b[38;5;34m32\u001b[0m, \u001b[38;5;34m128\u001b[0m)              │        \u001b[38;5;34m32,896\u001b[0m │\n",
       "├─────────────────────────────────┼────────────────────────┼───────────────┤\n",
       "│ dense (\u001b[38;5;33mDense\u001b[0m)                   │ (\u001b[38;5;34m32\u001b[0m, \u001b[38;5;34m1\u001b[0m)                │           \u001b[38;5;34m129\u001b[0m │\n",
       "└─────────────────────────────────┴────────────────────────┴───────────────┘\n"
      ]
     },
     "metadata": {},
     "output_type": "display_data"
    },
    {
     "data": {
      "text/html": [
       "<pre style=\"white-space:pre;overflow-x:auto;line-height:normal;font-family:Menlo,'DejaVu Sans Mono',consolas,'Courier New',monospace\"><span style=\"font-weight: bold\"> Total params: </span><span style=\"color: #00af00; text-decoration-color: #00af00\">1,313,027</span> (5.01 MB)\n",
       "</pre>\n"
      ],
      "text/plain": [
       "\u001b[1m Total params: \u001b[0m\u001b[38;5;34m1,313,027\u001b[0m (5.01 MB)\n"
      ]
     },
     "metadata": {},
     "output_type": "display_data"
    },
    {
     "data": {
      "text/html": [
       "<pre style=\"white-space:pre;overflow-x:auto;line-height:normal;font-family:Menlo,'DejaVu Sans Mono',consolas,'Courier New',monospace\"><span style=\"font-weight: bold\"> Trainable params: </span><span style=\"color: #00af00; text-decoration-color: #00af00\">1,313,025</span> (5.01 MB)\n",
       "</pre>\n"
      ],
      "text/plain": [
       "\u001b[1m Trainable params: \u001b[0m\u001b[38;5;34m1,313,025\u001b[0m (5.01 MB)\n"
      ]
     },
     "metadata": {},
     "output_type": "display_data"
    },
    {
     "data": {
      "text/html": [
       "<pre style=\"white-space:pre;overflow-x:auto;line-height:normal;font-family:Menlo,'DejaVu Sans Mono',consolas,'Courier New',monospace\"><span style=\"font-weight: bold\"> Non-trainable params: </span><span style=\"color: #00af00; text-decoration-color: #00af00\">0</span> (0.00 B)\n",
       "</pre>\n"
      ],
      "text/plain": [
       "\u001b[1m Non-trainable params: \u001b[0m\u001b[38;5;34m0\u001b[0m (0.00 B)\n"
      ]
     },
     "metadata": {},
     "output_type": "display_data"
    },
    {
     "data": {
      "text/html": [
       "<pre style=\"white-space:pre;overflow-x:auto;line-height:normal;font-family:Menlo,'DejaVu Sans Mono',consolas,'Courier New',monospace\"><span style=\"font-weight: bold\"> Optimizer params: </span><span style=\"color: #00af00; text-decoration-color: #00af00\">2</span> (12.00 B)\n",
       "</pre>\n"
      ],
      "text/plain": [
       "\u001b[1m Optimizer params: \u001b[0m\u001b[38;5;34m2\u001b[0m (12.00 B)\n"
      ]
     },
     "metadata": {},
     "output_type": "display_data"
    }
   ],
   "source": [
    "# Load the pre-trained model with ReLU activation\n",
    "model = load_model('simple_rnn_imdb.h5')\n",
    "model.summary()"
   ]
  },
  {
   "cell_type": "code",
   "execution_count": 4,
   "metadata": {},
   "outputs": [
    {
     "data": {
      "text/plain": [
       "[array([[ 0.12610695,  0.13734941, -0.02573321, ...,  0.13548851,\n",
       "          0.07613319,  0.08801857],\n",
       "        [ 0.00591045,  0.0410914 ,  0.02762629, ...,  0.0452069 ,\n",
       "          0.06293079,  0.08231896],\n",
       "        [ 0.16022575,  0.18910114,  0.04404904, ...,  0.11260027,\n",
       "          0.09687881,  0.01173706],\n",
       "        ...,\n",
       "        [-0.05181165,  0.02407051,  0.07708763, ..., -0.04327545,\n",
       "          0.01542248,  0.07850933],\n",
       "        [-0.00303406, -0.03293122, -0.04306536, ..., -0.15480943,\n",
       "         -0.02846803,  0.03876645],\n",
       "        [-0.08843518, -0.05020539,  0.20016223, ..., -0.09082245,\n",
       "          0.13245012,  0.05473192]], dtype=float32),\n",
       " array([[ 0.10718493, -0.13203539, -0.15919583, ...,  0.00065106,\n",
       "         -0.08381048, -0.08319978],\n",
       "        [ 0.12204222,  0.09308746, -0.16860004, ...,  0.10972052,\n",
       "          0.06744052, -0.13692555],\n",
       "        [-0.00392969, -0.06543183, -0.00945217, ...,  0.03532741,\n",
       "          0.07395986,  0.17574127],\n",
       "        ...,\n",
       "        [-0.10804975, -0.09948378,  0.1765056 , ...,  0.07839496,\n",
       "          0.06389689, -0.12217013],\n",
       "        [ 0.15343127,  0.10584143,  0.11748167, ..., -0.08243968,\n",
       "          0.1403145 ,  0.11209901],\n",
       "        [-0.06888136,  0.01778454, -0.06224944, ..., -0.12352351,\n",
       "          0.04098191,  0.01359399]], dtype=float32),\n",
       " array([[-0.06964051, -0.05989203,  0.05032894, ...,  0.07311293,\n",
       "         -0.11530115,  0.04708441],\n",
       "        [-0.03325954, -0.10068258,  0.19400057, ..., -0.31776685,\n",
       "         -0.10170507,  0.01895665],\n",
       "        [ 0.02450364, -0.1681036 ,  0.05388182, ..., -0.19255115,\n",
       "         -0.12402965,  0.16873379],\n",
       "        ...,\n",
       "        [-0.00086189, -0.02503433,  0.00385627, ..., -0.1057212 ,\n",
       "         -0.02463754,  0.03424476],\n",
       "        [-0.01001843,  0.00819639,  0.05654447, ..., -0.08666885,\n",
       "         -0.06354614, -0.02453498],\n",
       "        [ 0.00540267, -0.11949484,  0.02715212, ...,  0.0181039 ,\n",
       "         -0.17901978, -0.00609499]], dtype=float32),\n",
       " array([-0.02119718, -0.00580016, -0.0203956 , -0.04045578, -0.03709633,\n",
       "         0.03965461,  0.03134358, -0.01614351,  0.00133123, -0.03607027,\n",
       "        -0.02716397,  0.00574082, -0.04230387, -0.01263136,  0.00519412,\n",
       "        -0.06886752, -0.06782172, -0.01255617, -0.00617096,  0.0087602 ,\n",
       "        -0.04883032, -0.01032297, -0.00327599, -0.01032822,  0.00025985,\n",
       "        -0.02572855, -0.03095982, -0.02945518, -0.07093062, -0.002593  ,\n",
       "         0.00265937, -0.01052043, -0.01802053, -0.0139503 , -0.02304373,\n",
       "        -0.07966764, -0.07914936, -0.02685016, -0.02513178, -0.06408633,\n",
       "        -0.03326248, -0.03840623, -0.04780757, -0.0445204 ,  0.02648533,\n",
       "         0.01073203, -0.01877489,  0.0147275 , -0.0415795 , -0.00421017,\n",
       "        -0.02726612, -0.00569848, -0.00786175, -0.03364222, -0.02794486,\n",
       "         0.02050367, -0.06797046, -0.00179983, -0.06035168, -0.06522742,\n",
       "         0.00990464, -0.04382185, -0.01169906, -0.01690177, -0.02530495,\n",
       "         0.0121865 ,  0.03132435, -0.01994639,  0.03996297, -0.04426577,\n",
       "        -0.04306772, -0.02119265, -0.01092399, -0.04771299, -0.03479   ,\n",
       "        -0.01875974, -0.04071126, -0.06578202, -0.03887153, -0.07022811,\n",
       "        -0.06153036,  0.02601558,  0.05227636, -0.03019962,  0.0062283 ,\n",
       "        -0.03274217, -0.07574189, -0.0255384 , -0.00933435, -0.06297864,\n",
       "        -0.02849719, -0.00237209, -0.01763872, -0.04413528, -0.01812453,\n",
       "         0.02421178, -0.00471977,  0.00068561, -0.02071534, -0.06156392,\n",
       "         0.01159037, -0.03821163, -0.02872684, -0.03409396,  0.05311523,\n",
       "        -0.00126689, -0.03580704,  0.02319543, -0.01751418, -0.04836183,\n",
       "         0.01219758, -0.0283023 , -0.03981388,  0.00396629, -0.03184844,\n",
       "        -0.06770002,  0.00724876, -0.03978851, -0.02944729, -0.01004497,\n",
       "        -0.02893729, -0.04408327,  0.01285587, -0.03461162, -0.02578366,\n",
       "        -0.05554345, -0.05732436,  0.00459257], dtype=float32),\n",
       " array([[ 1.95708424e-01],\n",
       "        [ 1.60258412e-01],\n",
       "        [ 1.18737854e-02],\n",
       "        [ 6.13602810e-03],\n",
       "        [-2.19721586e-01],\n",
       "        [-1.05658278e-01],\n",
       "        [-2.19286710e-01],\n",
       "        [-4.80998635e-01],\n",
       "        [-1.32744700e-01],\n",
       "        [-2.32110992e-02],\n",
       "        [ 1.78895295e-01],\n",
       "        [-3.56383696e-02],\n",
       "        [-1.24209940e+00],\n",
       "        [-1.18997782e-01],\n",
       "        [-1.54988527e-01],\n",
       "        [ 2.16006771e-01],\n",
       "        [-1.16597675e-01],\n",
       "        [-7.00853094e-02],\n",
       "        [-1.27222221e-02],\n",
       "        [ 1.00242391e-01],\n",
       "        [-3.49432886e-01],\n",
       "        [ 2.93060511e-01],\n",
       "        [ 4.86426502e-02],\n",
       "        [-1.97179496e-01],\n",
       "        [-1.90012574e-01],\n",
       "        [-1.94823846e-01],\n",
       "        [ 4.49598581e-02],\n",
       "        [-2.12409854e-01],\n",
       "        [-8.67991969e-02],\n",
       "        [-3.34675498e-02],\n",
       "        [-5.91628738e-02],\n",
       "        [-2.66994029e-01],\n",
       "        [-1.42895699e-01],\n",
       "        [ 6.16180673e-02],\n",
       "        [ 3.69981453e-02],\n",
       "        [-5.76813892e-02],\n",
       "        [ 1.06600381e-01],\n",
       "        [-3.30548584e-02],\n",
       "        [-1.50562182e-01],\n",
       "        [ 1.46358367e-03],\n",
       "        [-1.76564902e-01],\n",
       "        [ 1.97431013e-01],\n",
       "        [ 1.84833556e-01],\n",
       "        [ 1.94593534e-01],\n",
       "        [-9.99777466e-02],\n",
       "        [-8.28775316e-02],\n",
       "        [ 1.07132569e-02],\n",
       "        [ 2.79859662e-01],\n",
       "        [ 8.90675485e-02],\n",
       "        [ 2.11084276e-01],\n",
       "        [-2.15865180e-01],\n",
       "        [-1.66692600e-01],\n",
       "        [-4.31460738e-01],\n",
       "        [-2.19222996e-03],\n",
       "        [-2.00799704e-01],\n",
       "        [ 1.98255226e-01],\n",
       "        [ 7.35879168e-02],\n",
       "        [ 1.19712785e-01],\n",
       "        [ 2.86275172e-03],\n",
       "        [ 9.06036571e-02],\n",
       "        [-1.70989200e-01],\n",
       "        [ 2.17793137e-01],\n",
       "        [-1.80192247e-01],\n",
       "        [-1.69757366e-01],\n",
       "        [-7.05551654e-02],\n",
       "        [ 3.36715579e-02],\n",
       "        [-4.14741755e-01],\n",
       "        [-4.68983538e-02],\n",
       "        [-1.68879464e-01],\n",
       "        [-5.05738437e-01],\n",
       "        [ 2.63039112e-01],\n",
       "        [ 4.93233688e-02],\n",
       "        [-5.20126164e-01],\n",
       "        [-2.26445554e-04],\n",
       "        [ 1.47158757e-01],\n",
       "        [-2.01413650e-02],\n",
       "        [ 2.36653134e-01],\n",
       "        [-2.01072376e-02],\n",
       "        [ 2.30577856e-01],\n",
       "        [-3.41468871e-01],\n",
       "        [-4.89110857e-01],\n",
       "        [-2.79516399e-01],\n",
       "        [ 2.79345363e-02],\n",
       "        [-5.25377393e-02],\n",
       "        [ 3.55766445e-01],\n",
       "        [-1.67781368e-01],\n",
       "        [ 1.63408622e-01],\n",
       "        [ 7.35783130e-02],\n",
       "        [ 1.40921399e-01],\n",
       "        [-4.40012127e-01],\n",
       "        [-1.90056518e-01],\n",
       "        [-5.16906083e-01],\n",
       "        [-4.85801175e-02],\n",
       "        [-1.41904252e-02],\n",
       "        [ 2.29733288e-02],\n",
       "        [-1.45515889e-01],\n",
       "        [-9.68658149e-01],\n",
       "        [-1.74015939e-01],\n",
       "        [-1.74303100e-01],\n",
       "        [ 4.33211178e-02],\n",
       "        [-1.53629646e-01],\n",
       "        [-1.95366219e-01],\n",
       "        [-1.21290338e+00],\n",
       "        [ 7.75790736e-02],\n",
       "        [ 2.33511463e-01],\n",
       "        [ 2.51523793e-01],\n",
       "        [-6.08883500e-01],\n",
       "        [ 1.75311550e-01],\n",
       "        [-5.05411848e-02],\n",
       "        [ 7.94061720e-02],\n",
       "        [ 2.25369453e-01],\n",
       "        [ 2.04728857e-01],\n",
       "        [-6.80785477e-02],\n",
       "        [ 1.92439646e-01],\n",
       "        [ 1.65134043e-01],\n",
       "        [ 2.32179631e-02],\n",
       "        [ 1.41578883e-01],\n",
       "        [ 1.11136269e-02],\n",
       "        [-8.48524272e-01],\n",
       "        [-1.65860638e-01],\n",
       "        [-9.06004338e-04],\n",
       "        [-4.38682102e-02],\n",
       "        [-4.26029176e-01],\n",
       "        [ 2.41659239e-01],\n",
       "        [-3.67071092e-01],\n",
       "        [-1.82013243e-01],\n",
       "        [ 1.74566239e-01],\n",
       "        [-6.26785383e-02]], dtype=float32),\n",
       " array([-1.6040189], dtype=float32)]"
      ]
     },
     "execution_count": 4,
     "metadata": {},
     "output_type": "execute_result"
    }
   ],
   "source": [
    "model.get_weights()"
   ]
  },
  {
   "cell_type": "code",
   "execution_count": 5,
   "metadata": {},
   "outputs": [],
   "source": [
    "# Step 2: Helper Functions\n",
    "# Function to decode reviews\n",
    "def decode_review(encoded_review):\n",
    "    return ' '.join([reverse_word_index.get(i - 3, '?') for i in encoded_review])\n",
    "\n",
    "# Function to preprocess user input\n",
    "def preprocess_text(text):\n",
    "    words = text.lower().split()\n",
    "    encoded_review = [word_index.get(word, 2) + 3 for word in words]\n",
    "    padded_review = sequence.pad_sequences([encoded_review], maxlen=500)\n",
    "    return padded_review"
   ]
  },
  {
   "cell_type": "code",
   "execution_count": 6,
   "metadata": {},
   "outputs": [],
   "source": [
    "### Prediction  function\n",
    "\n",
    "def predict_sentiment(review):\n",
    "    preprocessed_input=preprocess_text(review)\n",
    "\n",
    "    prediction=model.predict(preprocessed_input)\n",
    "\n",
    "    sentiment = 'Positive' if prediction[0][0] > 0.5 else 'Negative'\n",
    "    \n",
    "    return sentiment, prediction[0][0]\n",
    "\n"
   ]
  },
  {
   "cell_type": "code",
   "execution_count": 7,
   "metadata": {},
   "outputs": [
    {
     "name": "stdout",
     "output_type": "stream",
     "text": [
      "\u001b[1m1/1\u001b[0m \u001b[32m━━━━━━━━━━━━━━━━━━━━\u001b[0m\u001b[37m\u001b[0m \u001b[1m0s\u001b[0m 166ms/step\n",
      "Review: This movie was fantastic! The acting was great and the plot was thrilling.\n",
      "Sentiment: Positive\n",
      "Prediction Score: 0.8924389481544495\n"
     ]
    }
   ],
   "source": [
    "# Step 4: User Input and Prediction\n",
    "# Example review for prediction\n",
    "example_review = \"This movie was fantastic! The acting was great and the plot was thrilling.\"\n",
    "\n",
    "sentiment,score=predict_sentiment(example_review)\n",
    "\n",
    "print(f'Review: {example_review}')\n",
    "print(f'Sentiment: {sentiment}')\n",
    "print(f'Prediction Score: {score}')"
   ]
  },
  {
   "cell_type": "code",
   "execution_count": null,
   "metadata": {},
   "outputs": [],
   "source": []
  },
  {
   "cell_type": "code",
   "execution_count": null,
   "metadata": {},
   "outputs": [],
   "source": []
  },
  {
   "cell_type": "code",
   "execution_count": null,
   "metadata": {},
   "outputs": [],
   "source": []
  },
  {
   "cell_type": "code",
   "execution_count": null,
   "metadata": {},
   "outputs": [],
   "source": []
  },
  {
   "cell_type": "code",
   "execution_count": null,
   "metadata": {},
   "outputs": [],
   "source": []
  },
  {
   "cell_type": "code",
   "execution_count": null,
   "metadata": {},
   "outputs": [],
   "source": []
  },
  {
   "cell_type": "code",
   "execution_count": null,
   "metadata": {},
   "outputs": [],
   "source": []
  },
  {
   "cell_type": "code",
   "execution_count": null,
   "metadata": {},
   "outputs": [],
   "source": []
  },
  {
   "cell_type": "code",
   "execution_count": null,
   "metadata": {},
   "outputs": [],
   "source": []
  },
  {
   "cell_type": "code",
   "execution_count": null,
   "metadata": {},
   "outputs": [],
   "source": []
  }
 ],
 "metadata": {
  "kernelspec": {
   "display_name": "base",
   "language": "python",
   "name": "python3"
  },
  "language_info": {
   "codemirror_mode": {
    "name": "ipython",
    "version": 3
   },
   "file_extension": ".py",
   "mimetype": "text/x-python",
   "name": "python",
   "nbconvert_exporter": "python",
   "pygments_lexer": "ipython3",
   "version": "3.12.4"
  }
 },
 "nbformat": 4,
 "nbformat_minor": 2
}
